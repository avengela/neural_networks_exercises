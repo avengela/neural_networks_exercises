{
 "cells": [
  {
   "cell_type": "markdown",
   "id": "b9666c1f",
   "metadata": {},
   "source": [
    "# Sieci neuronowe - prolog"
   ]
  },
  {
   "cell_type": "code",
   "execution_count": null,
   "id": "968216cf",
   "metadata": {},
   "outputs": [],
   "source": [
    "import matplotlib\n",
    "import numpy as np\n",
    "import matplotlib.pyplot as plt \n",
    "from sklearn.metrics import mean_squared_error"
   ]
  },
  {
   "cell_type": "code",
   "execution_count": null,
   "id": "0e2656af",
   "metadata": {},
   "outputs": [],
   "source": [
    "data = np.loadtxt('SGD_data.txt', delimiter=',')\n",
    "Y = data[:, 0]\n",
    "X = np.array([(x-32)*5/9 for x in data[:, 1]])"
   ]
  },
  {
   "cell_type": "code",
   "execution_count": null,
   "id": "3167c0cd",
   "metadata": {},
   "outputs": [],
   "source": [
    "plt.scatter(X, Y, marker='o', c='b')\n",
    "plt.title('cykanie świerszczy w zależności od temperatury')\n",
    "plt.ylabel('cyknięcia/sekundę')\n",
    "plt.xlabel('temperatura w stopniach Celsjusza')\n",
    "plt.show()"
   ]
  },
  {
   "cell_type": "code",
   "execution_count": null,
   "id": "631d6871",
   "metadata": {},
   "outputs": [],
   "source": [
    "samples_cnt = len(X)\n",
    "weight0 = 10.0 # inicjalizacja wag\n",
    "weight1 = 10.0 #\n",
    "learning_rate = 0.001 #rozmiar stałej uczenia\n",
    "maxIteration = 1000 #liczba iteracji"
   ]
  },
  {
   "cell_type": "markdown",
   "id": "6b36e278",
   "metadata": {},
   "source": [
    "**Zadanie 1: uzupełnij listę wartości tak, aby dla każdej temperatury wyznaczyć liczbę cyknięć świerszczy przy użyciu aktualnych wag modelu liniowego**"
   ]
  },
  {
   "cell_type": "markdown",
   "id": "c706523b",
   "metadata": {},
   "source": [
    "**Zadanie 2: napisz kod, który iteracyjnie będzie poprawiać wagi, by wyznaczyły model najlepiej odwzorowujący zależność liczby cyknięć od temperatury**"
   ]
  },
  {
   "cell_type": "code",
   "execution_count": null,
   "id": "fe448b5d",
   "metadata": {},
   "outputs": [],
   "source": [
    "a_list = []\n",
    "b_list = []\n",
    "y_list = []\n",
    "for i in range(maxIteration):\n",
    "    #Zadanie1: \n",
    "    #predicted_values = \n",
    "    \n",
    "    #Zadanie2:\n",
    "    #weight0 = \n",
    "    #weight1 = \n",
    "    \n",
    "    #dodanie wartości do list w celu późniejszej wizualizacji\n",
    "    a_list.append(weight1)\n",
    "    b_list.append(weight0)\n",
    "    y_list.append(mean_squared_error(Y, predicted_values))"
   ]
  },
  {
   "cell_type": "markdown",
   "id": "23f88b7c",
   "metadata": {},
   "source": [
    "### Zobaczmy jak wygląda ostateczna prosta i jak wyglądała aktualizacja wag"
   ]
  },
  {
   "cell_type": "code",
   "execution_count": null,
   "id": "65e16bea",
   "metadata": {},
   "outputs": [],
   "source": [
    "plt.figure(figsize=[20,5])\n",
    "plt.subplot(1,3,1)\n",
    "plt.plot(X, Y, \"o\")\n",
    "if len(predicted_values) > 0:\n",
    "    plt.plot(X, predicted_values, \"r-\")\n",
    "plt.title('cricket chirps vs temperature')\n",
    "plt.xlabel('chirps/sec for striped ground crickets')\n",
    "plt.ylabel('temperature in degrees Fahrenheit')\n",
    "plt.subplot(1,3,2)\n",
    "plt.scatter(a_list,y_list,c=\"r\")\n",
    "plt.plot(a_list,y_list,c=\"b\")\n",
    "plt.title(\"Gradient descent (a)\")\n",
    "plt.subplot(1,3,3)\n",
    "plt.scatter(b_list,y_list,c=\"g\")\n",
    "plt.plot(b_list,y_list,c=\"b\")\n",
    "plt.title(\"Gradient descent (b)\")\n",
    "plt.show()\n",
    "print(\"Computed weights values -> w0:\", weight0, \"w1:\", weight1)"
   ]
  },
  {
   "cell_type": "markdown",
   "id": "0d0fd9ff",
   "metadata": {},
   "source": [
    "**Zadanie 3. Tensorflow Playground**\n",
    "\n",
    "**Zajrzyj na stronę [playground.tensorflow.org](http://playground.tensorflow.org).**\n",
    "\n",
    "**Ustaw minimalną sieć o zerowej liczbie warstw ukrytych (0 hidden layers; nie zmieniaj kolumny features) i naucz ją na problemie nr 3 (dwie grupy) - spójrz na wizualizację i wykres błędu treningowego i testowego - czy taka sieć (pojedynczy neuron) nauczyła się odpowiedniej granicy decyzyjnej? Zmień problem na pierwszy i naucz sieć jeszcze raz - na czym polega różnica i dlaczego? Jak sprawić by efekt znów był zadowalający?**"
   ]
  },
  {
   "cell_type": "markdown",
   "id": "8a19ee4c",
   "metadata": {},
   "source": [
    "tu odpowiedź"
   ]
  },
  {
   "cell_type": "markdown",
   "id": "791b1327",
   "metadata": {},
   "source": [
    "**Zadanie 4. Po przeczytaniu dokumentacji biblioteki scikit-learn stwórz klasyfikatory regresji logistycznej (Logistic Regression) oraz MLP (Multi-Layer Perceptron), naucz je na podstawie zbioru digits i użyj do rozpoznawania cyfr w zbiorze  testowym, etykiety umieść w zmiennych predicted_logreg i predicted_mlp. Spróbuj doprowadzić do momentu w którym regresja logistyczna osiągnie lepszy wynik niż MLP. Wyjaśnij dlaczego to trudne, nawiązując do metody działania tych algorytmów**"
   ]
  },
  {
   "cell_type": "markdown",
   "id": "2ac1c199",
   "metadata": {},
   "source": [
    "tu odpowiedź"
   ]
  },
  {
   "cell_type": "code",
   "execution_count": null,
   "id": "964b2d4c",
   "metadata": {},
   "outputs": [],
   "source": [
    "import itertools\n",
    "from sklearn.datasets import load_digits\n",
    "import matplotlib.pyplot as plt\n",
    "from sklearn.model_selection import train_test_split\n",
    "from sklearn.linear_model import LogisticRegression\n",
    "from sklearn.neural_network import MLPClassifier\n",
    "from sklearn.metrics import confusion_matrix\n",
    "import numpy as np\n",
    "\n",
    "#%matplotlib inline\n",
    "digits = load_digits() #zbiór zawiera 1797 obrazków reprezentujących cyfry od 0 do 9\n",
    "fig = plt.figure(figsize = (4,4))\n",
    "fig.subplots_adjust(left=0, right=1, bottom=0, top=1, hspace=0.05, wspace=0.05)\n",
    "\n",
    "#wyświetlanie 16 obrazków z ich etykietami\n",
    "for i in range(16):\n",
    "    ax = fig.add_subplot(4, 4, i+1, xticks=[], yticks=[])\n",
    "    ax.imshow(digits.images[i],cmap=plt.cm.binary,interpolation='nearest')\n",
    "    ax.text(0, 7, str(digits.target[i]))\n",
    "    \n",
    "X_train, X_test, y_train, y_test = train_test_split(digits.data, digits.target, test_size=0.2, random_state=16)\n",
    "\n",
    "#deklaracja\n",
    "#mlp = \n",
    "#logreg = \n",
    "\n",
    "#uczenie\n",
    "\n",
    "#prognoza\n",
    "#predicted_logreg = \n",
    "#predicted_mlp = "
   ]
  },
  {
   "cell_type": "code",
   "execution_count": null,
   "id": "40debb8e",
   "metadata": {},
   "outputs": [],
   "source": [
    "if predicted_logreg is not None:\n",
    "    print(confusion_matrix(y_test,predicted_logreg))\n",
    "    expected = y_test\n",
    "    fig = plt.figure(figsize=(8, 8))\n",
    "    fig.subplots_adjust(left=0, right=1, bottom=0, top=1, hspace=0.05, wspace=0.05)\n",
    "    cnt = 0\n",
    "    for i in range(len(X_test)):\n",
    "        if predicted_logreg[i] != expected[i]:\n",
    "            ax = fig.add_subplot(8, 8, cnt + 1, xticks=[], yticks=[])\n",
    "            ax.imshow(X_test.reshape(-1, 8, 8)[i], cmap=plt.cm.binary, interpolation='nearest')\n",
    "            cnt += 1\n",
    "            ax.text(0, 7, \"generated:\" + str(predicted_logreg[i]), color='red')\n",
    "            ax.text(0, 6, \"expected:\" + str(expected[i]), color='green')\n",
    "            \n",
    "    fig = plt.figure(figsize=(8, 8))\n",
    "    fig.subplots_adjust(left=0, right=1, bottom=0, top=1, hspace=0.05, wspace=0.05)\n",
    "    cnt = 0\n",
    "    for i in range(len(X_test)):    \n",
    "        if predicted_mlp[i] != expected[i]:\n",
    "            bx = fig.add_subplot(8, 8, cnt + 1, xticks=[], yticks=[])\n",
    "            bx.imshow(X_test.reshape(-1, 8, 8)[i], cmap=plt.cm.binary, interpolation='nearest')\n",
    "            cnt += 1\n",
    "            bx.text(0, 7, \"generated:\" + str(predicted_mlp[i]), color='red')\n",
    "            bx.text(0, 6, \"expected:\" + str(expected[i]), color='green')\n",
    "    print(confusion_matrix(y_test,predicted_mlp))"
   ]
  },
  {
   "cell_type": "markdown",
   "id": "c739029b",
   "metadata": {},
   "source": [
    "### Na koniec zobaczmy na które fragmenty klasyfikator LogisticRegression zwraca uwagę"
   ]
  },
  {
   "cell_type": "code",
   "execution_count": null,
   "id": "6058149a",
   "metadata": {},
   "outputs": [],
   "source": [
    "scale = np.max(np.abs(logreg.coef_))\n",
    "\n",
    "p = plt.figure(figsize=(25, 2.5));\n",
    "\n",
    "for i in range(10):\n",
    "    p = plt.subplot(1, 10, i + 1)\n",
    "    p = plt.imshow(logreg.coef_[i].reshape(8, 8),\n",
    "                  cmap=plt.cm.RdBu, vmin=-scale, vmax=scale);\n",
    "    p = plt.axis('off')\n",
    "    p = plt.title('Class %i' % i);"
   ]
  },
  {
   "cell_type": "code",
   "execution_count": null,
   "id": "afdf4a97",
   "metadata": {},
   "outputs": [],
   "source": []
  }
 ],
 "metadata": {
  "kernelspec": {
   "display_name": "Python 3",
   "language": "python",
   "name": "python3"
  },
  "language_info": {
   "codemirror_mode": {
    "name": "ipython",
    "version": 3
   },
   "file_extension": ".py",
   "mimetype": "text/x-python",
   "name": "python",
   "nbconvert_exporter": "python",
   "pygments_lexer": "ipython3",
   "version": "3.8.8"
  }
 },
 "nbformat": 4,
 "nbformat_minor": 5
}
