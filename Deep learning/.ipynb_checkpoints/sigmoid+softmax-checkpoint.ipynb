{
 "cells": [
  {
   "cell_type": "code",
   "execution_count": 5,
   "id": "f71b3d27",
   "metadata": {},
   "outputs": [
    {
     "data": {
      "image/png": "[encoded data removed]",
      "text/plain": [
       "<Figure size 432x288 with 1 Axes>"
      ]
     },
     "metadata": {
      "needs_background": "light"
     },
     "output_type": "display_data"
    }
   ],
   "source": [
    "import matplotlib.pyplot as plt\n",
    "import numpy as np\n",
    "\n",
    "def sigmoid(x):\n",
    "    a = -2\n",
    "    b = 10\n",
    "    return 1/(1+np.exp(-(a*x + b)))\n",
    "    \n",
    "    \n",
    "X = [1,2,4,7,8,10,12,17]\n",
    "Y = [0,0,0,0,0,1,1,1]\n",
    "function_sampling_x_coordinates = np.linspace(0,18,500)\n",
    "function_sampling_y_coordinates = [sigmoid(x) for x in function_sampling_x_coordinates]\n",
    "\n",
    "plt.plot(X, Y, \"o\")\n",
    "plt.plot(function_sampling_x_coordinates, function_sampling_y_coordinates, 'r-')\n",
    "plt.ylim(bottom = 1.25, top = -0.25)\n",
    "\n",
    "plt.show()"
   ]
  },
  {
   "cell_type": "code",
   "execution_count": 6,
   "id": "06141f41",
   "metadata": {},
   "outputs": [],
   "source": [
    "def softmax(vec):\n",
    "    total = sum([np.exp(x) for x in vec])\n",
    "    softmax = [np.exp(x)/total for x in vec]\n",
    "    return softmax"
   ]
  },
  {
   "cell_type": "code",
   "execution_count": 7,
   "id": "434e3b55",
   "metadata": {},
   "outputs": [],
   "source": [
    "y = [-1.0, 1.0, 5.0]"
   ]
  },
  {
   "cell_type": "code",
   "execution_count": 8,
   "id": "d6b861d3",
   "metadata": {},
   "outputs": [
    {
     "name": "stdout",
     "output_type": "stream",
     "text": [
      "[0.0024282580295913376, 0.017942534803329194, 0.9796292071670795]\n"
     ]
    }
   ],
   "source": [
    "print(softmax(y))"
   ]
  },
  {
   "cell_type": "code",
   "execution_count": null,
   "id": "13d07cb5",
   "metadata": {},
   "outputs": [],
   "source": []
  }
 ],
 "metadata": {
  "kernelspec": {
   "display_name": "neural_networks",
   "language": "python",
   "name": "neural_networks"
  },
  "language_info": {
   "codemirror_mode": {
    "name": "ipython",
    "version": 3
   },
   "file_extension": ".py",
   "mimetype": "text/x-python",
   "name": "python",
   "nbconvert_exporter": "python",
   "pygments_lexer": "ipython3",
   "version": "3.9.10"
  }
 },
 "nbformat": 4,
 "nbformat_minor": 5
}
